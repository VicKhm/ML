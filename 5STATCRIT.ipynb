{
 "cells": [
  {
   "cell_type": "markdown",
   "id": "871699a0-61b7-49b3-8077-04123952805d",
   "metadata": {
    "tags": []
   },
   "source": [
    "Проверка стат гипотез\n",
    "1. Выбор H0 и Н1\n",
    "2. Выбор метрики\n",
    "3. Данные (количественные или качественные), распределение, выбросы\n",
    "4. Эксперимент\n",
    "5. Оценки, критерии\n",
    "6. Анализ"
   ]
  },
  {
   "cell_type": "markdown",
   "id": "7a5882e2-00ab-428c-8b69-023772b7901c",
   "metadata": {},
   "source": [
    "- Н0 – данные равны\n",
    "- Н1 - в данных присутствуют различия.\n",
    "- Ошибка 1 рода: нулевая гипотеза принята, хотя она ложна, т.е. сделано предположение что эффект реальный, когда как результат обусловлен случайностью, в таком случае появляются FN.\n",
    "- Ошибка 2 рода: принята альтернивная гипотеза, хотя эффект ложный, т.е. нельзя было отклонять нулевую гипотезу. FP. "
   ]
  },
  {
   "cell_type": "markdown",
   "id": "cda00ca6-b064-4793-98be-d800a511a526",
   "metadata": {},
   "source": [
    "Зачем?\n",
    "1. Оценка динамики явления — паспределения, как изменяется процесс и тд.\n",
    "2. Анализ различий между группами (статистическими совокупностями) в зависимости от типа данных и распределения количественных данных, количества и связанности групп может применяться большое количество инструментов. Критерии согласия, T Test и тд.\n",
    "3. Выявление и оценка взаимовлияний в динамике — методы корелляционного анализа.\n",
    "4. Прогноз явлений — используются линейные и логистические регрессии, деревья решений, нейронные сети, различные вариантры дискриминативного анализа\n",
    "5. Группировка явлений и выявление общих свойств группы — варианты кластерного анализа.\n"
   ]
  },
  {
   "cell_type": "code",
   "execution_count": 7,
   "id": "a8de2473-9ab0-45e1-8b99-47d38654972d",
   "metadata": {},
   "outputs": [
    {
     "data": {
      "text/html": [
       "<img src=\"vibor_stat_kriteria-1024x774.png\"/>"
      ],
      "text/plain": [
       "<IPython.core.display.Image object>"
      ]
     },
     "execution_count": 7,
     "metadata": {},
     "output_type": "execute_result"
    }
   ],
   "source": [
    "from IPython.display import Image\n",
    "from IPython.core.display import HTML \n",
    "Image(url= \"vibor_stat_kriteria-1024x774.png\") #КАК ВЫБРАТЬ КРИТЕРИЙ"
   ]
  },
  {
   "cell_type": "markdown",
   "id": "a9eccd23-d817-4d95-9026-8637a0cb3b9f",
   "metadata": {},
   "source": [
    "СТОИТ СРАЗУ ПОДЕЛИТЬ ВСЕ КРИТЕРИИ НА 2 КАТЕГОРИИ:\n",
    "1. НЕпараметрические (Манна-Уитни, Пирсона, Колмогорова-Cмирнова и тд)\n",
    "2. параметрические (Крит. Стюдента, Фишера...)"
   ]
  },
  {
   "cell_type": "code",
   "execution_count": 166,
   "id": "795e987b-17ff-453d-928d-d1bd0c275f6a",
   "metadata": {},
   "outputs": [],
   "source": [
    "#1 data\n",
    "import pandas as pd\n",
    "import numpy as np\n",
    "import matplotlib\n",
    "import matplotlib.pyplot as plt\n",
    "from scipy import stats"
   ]
  },
  {
   "cell_type": "code",
   "execution_count": 11,
   "id": "5ddb355c-b4d1-4d65-94bd-8ba8f4bdb6de",
   "metadata": {},
   "outputs": [],
   "source": [
    "df = pd.read_csv('life_expectancy.csv')\n"
   ]
  },
  {
   "cell_type": "code",
   "execution_count": 167,
   "id": "b31d47d3-67aa-4cd3-8460-4317df2b9805",
   "metadata": {},
   "outputs": [],
   "source": [
    "first = df[df['Gender'] == 'Female']['2006-2010'] #women 2006 2010 years\n",
    "second = df[df['Gender'] == 'Female']['2010-2014'] #women 2010 2014 years\n"
   ]
  },
  {
   "cell_type": "code",
   "execution_count": 168,
   "id": "1d52052e-4e51-4d25-b270-6d4fcadfcca5",
   "metadata": {},
   "outputs": [
    {
     "data": {
      "image/png": "[encoded data removed]",
      "text/plain": [
       "<Figure size 432x288 with 1 Axes>"
      ]
     },
     "metadata": {
      "needs_background": "light"
     },
     "output_type": "display_data"
    }
   ],
   "source": [
    "fig, ax = plt.subplots()\n",
    "plt.hist(first, color = 'green', alpha = 0.5)\n",
    "plt.hist(second, color = 'orange', alpha = 0.5)\n",
    "plt.legend('fs')\n",
    "plt.show() # нужно избавиться от хвостиков минимальных значений"
   ]
  },
  {
   "cell_type": "code",
   "execution_count": 128,
   "id": "855f571c-c9ec-4817-86db-fac6af20d923",
   "metadata": {},
   "outputs": [],
   "source": [
    "# drop min max "
   ]
  },
  {
   "cell_type": "code",
   "execution_count": 148,
   "id": "31968af2-7a84-4749-9bda-3de652dec6ad",
   "metadata": {},
   "outputs": [],
   "source": [
    "q_low = first.quantile(0.05)\n",
    "q_hi  = first.quantile(0.99)\n",
    "firstF = first[(first< q_hi) & (first > q_low)]\n",
    "\n",
    "q_low1 = second.quantile(0.05)\n",
    "q_hi1  = second.quantile(0.99)\n",
    "secondF = second[(second< q_hi) & (second > q_low)]"
   ]
  },
  {
   "cell_type": "code",
   "execution_count": 195,
   "id": "67757fb2-8cf3-498b-a8bf-b8744ec80ae0",
   "metadata": {},
   "outputs": [
    {
     "data": {
      "text/plain": [
       "<matplotlib.legend.Legend at 0x167e6bc8>"
      ]
     },
     "execution_count": 195,
     "metadata": {},
     "output_type": "execute_result"
    },
    {
     "data": {
      "image/png": "[encoded data removed]",
      "text/plain": [
       "<Figure size 432x288 with 1 Axes>"
      ]
     },
     "metadata": {
      "needs_background": "light"
     },
     "output_type": "display_data"
    }
   ],
   "source": [
    "\n",
    "firstF.hist(bins = 13, color = '#087222', alpha = 0.5)\n",
    "secondF.hist(bins = 13, color = 'orange', alpha = 0.5)\n",
    "plt.axvline(firstF.mean(), color = '#087222', linestyle= '--')\n",
    "plt.axvline(secondF.mean(), color = '#866E49', linestyle= '--')\n",
    "plt.legend('fs')"
   ]
  },
  {
   "cell_type": "markdown",
   "id": "c7eb6ea5-a22f-4140-afab-2db921183f49",
   "metadata": {},
   "source": [
    "2. Нормальность\n",
    "\n",
    "Если про выборки заранее известно, что они подчиняются нормальному распределению, то к ним становится возможно применять более мощные параметрические критерии. Проверка нормальность часто выполняется на первом шаге анализа выборки, чтобы решить, использовать далее параметрические методы или непараметрические. В справочнике А. И. Кобзаря приведена сравнительная таблица мощности для 21 критерия нормальности.\n",
    "\n",
    "Критерий Шапиро-Уилка является специальным критерием нормальности\n",
    "и используется для проверки гипотезы о нормальном распределении\n"
   ]
  },
  {
   "cell_type": "code",
   "execution_count": 157,
   "id": "af86bd22-a954-4112-a38a-f4716f3e9ec6",
   "metadata": {},
   "outputs": [
    {
     "name": "stdout",
     "output_type": "stream",
     "text": [
      "p-value: 0.13978296518325806\n"
     ]
    }
   ],
   "source": [
    "# Shapiro-Wilk Test\n",
    "res = stats.shapiro(np.log(firstF))\n",
    "print(f'p-value: {res[1]}')"
   ]
  },
  {
   "cell_type": "code",
   "execution_count": 173,
   "id": "f5bd76ab-b521-4d0e-b1ac-725b603870ae",
   "metadata": {},
   "outputs": [
    {
     "name": "stdout",
     "output_type": "stream",
     "text": [
      "p-value: 0.5823500792437954\n"
     ]
    }
   ],
   "source": [
    "# D'Agostino and Pearson's Test второй вариант теста через ассиметрию \n",
    "from scipy.stats import normaltest\n",
    "res1 = normaltest(np.log(secondF))\n",
    "print((f'p-value: {res1[1]}'))"
   ]
  },
  {
   "cell_type": "markdown",
   "id": "956d21ce-42f9-48d4-9e1b-00245c9813e7",
   "metadata": {},
   "source": [
    "Нулевая гипотеза H0 теста Шапиро–Уилка заключается в том, что случайная величина, выборка x которой известна, распределена по нормальному\n",
    "закону. Альтернативная гипотеза H1 заключается в том, закон распределения не является нормальным.\n",
    "\n",
    "В нашем случае p-value больше чем 0.05 мы не можем отвергнуть нулевую гиппотезу. Следовательно у нас отклонение от нормальности не существенно\n"
   ]
  },
  {
   "cell_type": "markdown",
   "id": "a01f2a44-0485-41d0-a661-ca88af13ea7a",
   "metadata": {},
   "source": [
    "3. Критерий Манна-Уитни U-test\n",
    "\n",
    "U-критерий Манна-Уитни используется для оценки различий между двумя независимыми выборками по уровню какого-либо количественного признака. \n",
    "\n",
    "Проверяется гипотеза сдвига, согласно которой распределения двух выборок имеют одинаковую форму и отличаются только сдвигом на константу.\n"
   ]
  },
  {
   "cell_type": "code",
   "execution_count": 191,
   "id": "fffa6d35-c2fb-4e2a-8c62-20d356b2cb99",
   "metadata": {},
   "outputs": [
    {
     "name": "stdout",
     "output_type": "stream",
     "text": [
      "p-value: 1.969588990480091e-09\n"
     ]
    }
   ],
   "source": [
    "res2 = stats.mannwhitneyu(firstF, secondF)\n",
    "print(f'p-value: {res2[1]}')"
   ]
  },
  {
   "cell_type": "markdown",
   "id": "47fb7aec-a027-410b-aa18-47df966508a2",
   "metadata": {},
   "source": [
    "p value супер маленький значит отвергаем нулевую гипотезу. Основная гипотеза тут на равенство или схожесть. Продолжит. стала другая  и статистически значима разность"
   ]
  },
  {
   "cell_type": "markdown",
   "id": "11121256-cc33-44b7-a5ee-b6ae5581edb8",
   "metadata": {},
   "source": [
    "4. T TEST\n",
    "\n",
    "Одновыборочный t-тест предназначен для проверки равенства математического ожидания нормально распределенной случайной величины (для которой известна лишь выборка) некоторому заданному значению в предположении, что дисперсия не известна. \n",
    "\n",
    "Наиболее часто t-критерии применяются для проверки равенства средних значений в двух выборках. Нулевая гипотеза предполагает, что средние равны (отрицание этого предположения называют гипотезой сдвига).\n",
    "\n",
    "\n",
    "https://docs.scipy.org/doc/scipy/reference/generated/scipy.stats.ttest_ind.html\n",
    "\n",
    "\n"
   ]
  },
  {
   "cell_type": "code",
   "execution_count": 259,
   "id": "0cb983e9-7bc7-40eb-8abb-788109600017",
   "metadata": {},
   "outputs": [
    {
     "name": "stdout",
     "output_type": "stream",
     "text": [
      "p-value: 1.3811055753083874e-10\n"
     ]
    }
   ],
   "source": [
    "res3 = stats.ttest_ind(firstF, secondF, equal_var = False)\n",
    "# equal_var параметр дисперсии у нас они разные проверяли в пункте 3. Дисперсия важный параметр \n",
    "print(f'p-value: {res3[1]}')"
   ]
  },
  {
   "cell_type": "markdown",
   "id": "d605597c-6cd0-4224-b097-3ebbd39a9e52",
   "metadata": {},
   "source": [
    "Результат статистически значимый. Отвергаем Н0 "
   ]
  },
  {
   "cell_type": "markdown",
   "id": "dd5cdaae-390d-4985-bad9-93da1c03c024",
   "metadata": {},
   "source": [
    "5. Гипотеза однородности. χ2. Критерий согласия χ2 Пирсона применяется для проверки гипотезы о том, согласуется ли заданная выборка с заданным фиксированным распределением (отличное от ожидаемого распределения). Показывает общ. информацию, но не дает информации и конкретных переменных. "
   ]
  },
  {
   "cell_type": "markdown",
   "id": "c1cab34d-6adf-48a3-a978-39de6ea5633e",
   "metadata": {},
   "source": [
    "Таким образом, если задана (явно или неявно) таблица сопряженности, то\n",
    "выполняется тест с нулевой гипотезой «случайные величины независимы»\n",
    "и альтернативной «случайные величины зависимы», в остальных случаях\n",
    "проверяется нулевая гипотеза «X имеет заданное распределение», где распределение определяется вектором p.\n"
   ]
  },
  {
   "cell_type": "markdown",
   "id": "67333d99-40eb-4048-baa2-ce407175b1f3",
   "metadata": {},
   "source": [
    "Нужны новые выборки.\n",
    "Мужчины и женщины за 2006г. Проверяем есть ли разница м. продолжительностями жизни у мужчин и женщин и значима ли она "
   ]
  },
  {
   "cell_type": "code",
   "execution_count": 296,
   "id": "548b4e8c-f85c-481c-832d-9fd1ba90bdd3",
   "metadata": {},
   "outputs": [
    {
     "data": {
      "text/html": [
       "<div>\n",
       "<style scoped>\n",
       "    .dataframe tbody tr th:only-of-type {\n",
       "        vertical-align: middle;\n",
       "    }\n",
       "\n",
       "    .dataframe tbody tr th {\n",
       "        vertical-align: top;\n",
       "    }\n",
       "\n",
       "    .dataframe thead th {\n",
       "        text-align: right;\n",
       "    }\n",
       "</style>\n",
       "<table border=\"1\" class=\"dataframe\">\n",
       "  <thead>\n",
       "    <tr style=\"text-align: right;\">\n",
       "      <th></th>\n",
       "      <th>2006</th>\n",
       "      <th>2010</th>\n",
       "    </tr>\n",
       "  </thead>\n",
       "  <tbody>\n",
       "    <tr>\n",
       "      <th>man</th>\n",
       "      <td>66</td>\n",
       "      <td>81</td>\n",
       "    </tr>\n",
       "    <tr>\n",
       "      <th>women</th>\n",
       "      <td>71</td>\n",
       "      <td>91</td>\n",
       "    </tr>\n",
       "  </tbody>\n",
       "</table>\n",
       "</div>"
      ],
      "text/plain": [
       "       2006  2010\n",
       "man      66    81\n",
       "women    71    91"
      ]
     },
     "execution_count": 296,
     "metadata": {},
     "output_type": "execute_result"
    }
   ],
   "source": [
    "women = df[df['Gender'] == 'Female']['2006-2010'] #women 2006 2010 years\n",
    "men = df[df['Gender'] == 'Male']['2006-2010'] #women 2010 2014 years\n",
    "dff = pd.DataFrame([[66, 81], [71, 91]], columns = ['2006', '2010'], index = ['man','women'])\n",
    "dff"
   ]
  },
  {
   "cell_type": "code",
   "execution_count": 297,
   "id": "98c04e22-1b8b-465a-bc15-17a27370fc4d",
   "metadata": {},
   "outputs": [],
   "source": [
    "res = stats.chi2_contingency(dff) #однородно ли распределение продолжительности жизни"
   ]
  },
  {
   "cell_type": "code",
   "execution_count": 300,
   "id": "62f5f89b-02a2-45df-acca-8321b3376809",
   "metadata": {},
   "outputs": [
    {
     "name": "stdout",
     "output_type": "stream",
     "text": [
      "p-value: 0.9405513140164317\n",
      "x2: 0.005561721519932625\n"
     ]
    }
   ],
   "source": [
    "print('p-value:', res[1])\n",
    "print('x2:', res[0])"
   ]
  },
  {
   "cell_type": "markdown",
   "id": "6c23fc01-779a-4b56-a819-8db86f7c7abe",
   "metadata": {},
   "source": [
    "6. КОРРЕЛЯЦИЯ используется для проверки и характера взаимосвязи двух переменных.\n",
    "Гипотеза: H0: отсутствует линейная связь между выборками.\n",
    "\n",
    "Неустойчивость к выбросам.\n",
    "\n",
    "С помощью коэффициента корреляции Пирсона можно определить силу линейной зависимости между величинами, другие виды взаимосвязей выявляются методами регрессионного анализа.\n",
    "\n",
    "Необходимо понимать различие понятий \"независимость\" и \"некоррелированность\". Из первого следует второе, но не наоборот."
   ]
  },
  {
   "cell_type": "code",
   "execution_count": 261,
   "id": "0d75dd1a-8a68-4b24-8ca4-5b4b064e6516",
   "metadata": {},
   "outputs": [
    {
     "data": {
      "text/html": [
       "<div>\n",
       "<style scoped>\n",
       "    .dataframe tbody tr th:only-of-type {\n",
       "        vertical-align: middle;\n",
       "    }\n",
       "\n",
       "    .dataframe tbody tr th {\n",
       "        vertical-align: top;\n",
       "    }\n",
       "\n",
       "    .dataframe thead th {\n",
       "        text-align: right;\n",
       "    }\n",
       "</style>\n",
       "<table border=\"1\" class=\"dataframe\">\n",
       "  <thead>\n",
       "    <tr style=\"text-align: right;\">\n",
       "      <th></th>\n",
       "      <th>Alcohol</th>\n",
       "      <th>Malic_Acid</th>\n",
       "      <th>Ash</th>\n",
       "      <th>Ash_Alcanity</th>\n",
       "      <th>Magnesium</th>\n",
       "      <th>Total_Phenols</th>\n",
       "      <th>Flavanoids</th>\n",
       "      <th>Nonflavanoid_Phenols</th>\n",
       "      <th>Proanthocyanins</th>\n",
       "      <th>Color_Intensity</th>\n",
       "      <th>Hue</th>\n",
       "      <th>OD280</th>\n",
       "      <th>Proline</th>\n",
       "    </tr>\n",
       "  </thead>\n",
       "  <tbody>\n",
       "    <tr>\n",
       "      <th>0</th>\n",
       "      <td>14.23</td>\n",
       "      <td>1.71</td>\n",
       "      <td>2.43</td>\n",
       "      <td>15.6</td>\n",
       "      <td>127</td>\n",
       "      <td>2.80</td>\n",
       "      <td>3.06</td>\n",
       "      <td>0.28</td>\n",
       "      <td>2.29</td>\n",
       "      <td>5.64</td>\n",
       "      <td>1.04</td>\n",
       "      <td>3.92</td>\n",
       "      <td>1065</td>\n",
       "    </tr>\n",
       "    <tr>\n",
       "      <th>1</th>\n",
       "      <td>13.20</td>\n",
       "      <td>1.78</td>\n",
       "      <td>2.14</td>\n",
       "      <td>11.2</td>\n",
       "      <td>100</td>\n",
       "      <td>2.65</td>\n",
       "      <td>2.76</td>\n",
       "      <td>0.26</td>\n",
       "      <td>1.28</td>\n",
       "      <td>4.38</td>\n",
       "      <td>1.05</td>\n",
       "      <td>3.40</td>\n",
       "      <td>1050</td>\n",
       "    </tr>\n",
       "    <tr>\n",
       "      <th>2</th>\n",
       "      <td>13.16</td>\n",
       "      <td>2.36</td>\n",
       "      <td>2.67</td>\n",
       "      <td>18.6</td>\n",
       "      <td>101</td>\n",
       "      <td>2.80</td>\n",
       "      <td>3.24</td>\n",
       "      <td>0.30</td>\n",
       "      <td>2.81</td>\n",
       "      <td>5.68</td>\n",
       "      <td>1.03</td>\n",
       "      <td>3.17</td>\n",
       "      <td>1185</td>\n",
       "    </tr>\n",
       "    <tr>\n",
       "      <th>3</th>\n",
       "      <td>14.37</td>\n",
       "      <td>1.95</td>\n",
       "      <td>2.50</td>\n",
       "      <td>16.8</td>\n",
       "      <td>113</td>\n",
       "      <td>3.85</td>\n",
       "      <td>3.49</td>\n",
       "      <td>0.24</td>\n",
       "      <td>2.18</td>\n",
       "      <td>7.80</td>\n",
       "      <td>0.86</td>\n",
       "      <td>3.45</td>\n",
       "      <td>1480</td>\n",
       "    </tr>\n",
       "    <tr>\n",
       "      <th>4</th>\n",
       "      <td>13.24</td>\n",
       "      <td>2.59</td>\n",
       "      <td>2.87</td>\n",
       "      <td>21.0</td>\n",
       "      <td>118</td>\n",
       "      <td>2.80</td>\n",
       "      <td>2.69</td>\n",
       "      <td>0.39</td>\n",
       "      <td>1.82</td>\n",
       "      <td>4.32</td>\n",
       "      <td>1.04</td>\n",
       "      <td>2.93</td>\n",
       "      <td>735</td>\n",
       "    </tr>\n",
       "    <tr>\n",
       "      <th>...</th>\n",
       "      <td>...</td>\n",
       "      <td>...</td>\n",
       "      <td>...</td>\n",
       "      <td>...</td>\n",
       "      <td>...</td>\n",
       "      <td>...</td>\n",
       "      <td>...</td>\n",
       "      <td>...</td>\n",
       "      <td>...</td>\n",
       "      <td>...</td>\n",
       "      <td>...</td>\n",
       "      <td>...</td>\n",
       "      <td>...</td>\n",
       "    </tr>\n",
       "    <tr>\n",
       "      <th>173</th>\n",
       "      <td>13.71</td>\n",
       "      <td>5.65</td>\n",
       "      <td>2.45</td>\n",
       "      <td>20.5</td>\n",
       "      <td>95</td>\n",
       "      <td>1.68</td>\n",
       "      <td>0.61</td>\n",
       "      <td>0.52</td>\n",
       "      <td>1.06</td>\n",
       "      <td>7.70</td>\n",
       "      <td>0.64</td>\n",
       "      <td>1.74</td>\n",
       "      <td>740</td>\n",
       "    </tr>\n",
       "    <tr>\n",
       "      <th>174</th>\n",
       "      <td>13.40</td>\n",
       "      <td>3.91</td>\n",
       "      <td>2.48</td>\n",
       "      <td>23.0</td>\n",
       "      <td>102</td>\n",
       "      <td>1.80</td>\n",
       "      <td>0.75</td>\n",
       "      <td>0.43</td>\n",
       "      <td>1.41</td>\n",
       "      <td>7.30</td>\n",
       "      <td>0.70</td>\n",
       "      <td>1.56</td>\n",
       "      <td>750</td>\n",
       "    </tr>\n",
       "    <tr>\n",
       "      <th>175</th>\n",
       "      <td>13.27</td>\n",
       "      <td>4.28</td>\n",
       "      <td>2.26</td>\n",
       "      <td>20.0</td>\n",
       "      <td>120</td>\n",
       "      <td>1.59</td>\n",
       "      <td>0.69</td>\n",
       "      <td>0.43</td>\n",
       "      <td>1.35</td>\n",
       "      <td>10.20</td>\n",
       "      <td>0.59</td>\n",
       "      <td>1.56</td>\n",
       "      <td>835</td>\n",
       "    </tr>\n",
       "    <tr>\n",
       "      <th>176</th>\n",
       "      <td>13.17</td>\n",
       "      <td>2.59</td>\n",
       "      <td>2.37</td>\n",
       "      <td>20.0</td>\n",
       "      <td>120</td>\n",
       "      <td>1.65</td>\n",
       "      <td>0.68</td>\n",
       "      <td>0.53</td>\n",
       "      <td>1.46</td>\n",
       "      <td>9.30</td>\n",
       "      <td>0.60</td>\n",
       "      <td>1.62</td>\n",
       "      <td>840</td>\n",
       "    </tr>\n",
       "    <tr>\n",
       "      <th>177</th>\n",
       "      <td>14.13</td>\n",
       "      <td>4.10</td>\n",
       "      <td>2.74</td>\n",
       "      <td>24.5</td>\n",
       "      <td>96</td>\n",
       "      <td>2.05</td>\n",
       "      <td>0.76</td>\n",
       "      <td>0.56</td>\n",
       "      <td>1.35</td>\n",
       "      <td>9.20</td>\n",
       "      <td>0.61</td>\n",
       "      <td>1.60</td>\n",
       "      <td>560</td>\n",
       "    </tr>\n",
       "  </tbody>\n",
       "</table>\n",
       "<p>178 rows × 13 columns</p>\n",
       "</div>"
      ],
      "text/plain": [
       "     Alcohol  Malic_Acid   Ash  Ash_Alcanity  Magnesium  Total_Phenols  \\\n",
       "0      14.23        1.71  2.43          15.6        127           2.80   \n",
       "1      13.20        1.78  2.14          11.2        100           2.65   \n",
       "2      13.16        2.36  2.67          18.6        101           2.80   \n",
       "3      14.37        1.95  2.50          16.8        113           3.85   \n",
       "4      13.24        2.59  2.87          21.0        118           2.80   \n",
       "..       ...         ...   ...           ...        ...            ...   \n",
       "173    13.71        5.65  2.45          20.5         95           1.68   \n",
       "174    13.40        3.91  2.48          23.0        102           1.80   \n",
       "175    13.27        4.28  2.26          20.0        120           1.59   \n",
       "176    13.17        2.59  2.37          20.0        120           1.65   \n",
       "177    14.13        4.10  2.74          24.5         96           2.05   \n",
       "\n",
       "     Flavanoids  Nonflavanoid_Phenols  Proanthocyanins  Color_Intensity   Hue  \\\n",
       "0          3.06                  0.28             2.29             5.64  1.04   \n",
       "1          2.76                  0.26             1.28             4.38  1.05   \n",
       "2          3.24                  0.30             2.81             5.68  1.03   \n",
       "3          3.49                  0.24             2.18             7.80  0.86   \n",
       "4          2.69                  0.39             1.82             4.32  1.04   \n",
       "..          ...                   ...              ...              ...   ...   \n",
       "173        0.61                  0.52             1.06             7.70  0.64   \n",
       "174        0.75                  0.43             1.41             7.30  0.70   \n",
       "175        0.69                  0.43             1.35            10.20  0.59   \n",
       "176        0.68                  0.53             1.46             9.30  0.60   \n",
       "177        0.76                  0.56             1.35             9.20  0.61   \n",
       "\n",
       "     OD280  Proline  \n",
       "0     3.92     1065  \n",
       "1     3.40     1050  \n",
       "2     3.17     1185  \n",
       "3     3.45     1480  \n",
       "4     2.93      735  \n",
       "..     ...      ...  \n",
       "173   1.74      740  \n",
       "174   1.56      750  \n",
       "175   1.56      835  \n",
       "176   1.62      840  \n",
       "177   1.60      560  \n",
       "\n",
       "[178 rows x 13 columns]"
      ]
     },
     "execution_count": 261,
     "metadata": {},
     "output_type": "execute_result"
    }
   ],
   "source": [
    "corr_data = pd.read_csv('wine-clustering.csv')\n",
    "corr_data['Alcohol'], corr_data['Proline']"
   ]
  },
  {
   "cell_type": "code",
   "execution_count": 265,
   "id": "13c888f9-65e0-43e7-85a0-5c879e793059",
   "metadata": {},
   "outputs": [
    {
     "name": "stdout",
     "output_type": "stream",
     "text": [
      "correlation: 0.6437200371782135, p-value: 3.288368689992126e-22\n"
     ]
    }
   ],
   "source": [
    "corr = stats.pearsonr(corr_data['Alcohol'], corr_data['Proline']) # проверяет если ли связь гипотеза что корреляция равна или нет 0. H0 \n",
    "print(f'correlation: {corr[0]}, p-value: {corr[1]}')"
   ]
  },
  {
   "cell_type": "code",
   "execution_count": 283,
   "id": "ef27ebfd-e869-4f76-9366-cce196f71b9d",
   "metadata": {},
   "outputs": [
    {
     "data": {
      "text/plain": [
       "Text(11, 1500, 'corr: 0.64')"
      ]
     },
     "execution_count": 283,
     "metadata": {},
     "output_type": "execute_result"
    },
    {
     "data": {
      "image/png": "[encoded data removed]",
      "text/plain": [
       "<Figure size 432x288 with 1 Axes>"
      ]
     },
     "metadata": {
      "needs_background": "light"
     },
     "output_type": "display_data"
    }
   ],
   "source": [
    "fig, ax = plt.subplots()\n",
    "fig = matplotlib.pyplot.scatter(corr_data['Alcohol'], corr_data['Proline'], c = 'green')\n",
    "plt.xlabel('Alco')\n",
    "plt.ylabel('Proline')\n",
    "plt.title('Alco-Proline correlation')\n",
    "plt.annotate(xy = [11, 1600], text = 'p-value: 3.288368689992126e-22')\n",
    "plt.annotate(xy = [11, 1500], text = 'corr: 0.64')\n"
   ]
  },
  {
   "cell_type": "markdown",
   "id": "f50e0d9a-e244-49e0-8e49-ac62fe11f7c6",
   "metadata": {},
   "source": [
    "По графику видно, что есть корреляция 0.64, имеет место отклонение нулевой теории. "
   ]
  },
  {
   "cell_type": "code",
   "execution_count": null,
   "id": "5c354ed4-d84d-4c3e-83ea-c9cb14d56ebb",
   "metadata": {},
   "outputs": [],
   "source": []
  }
 ],
 "metadata": {
  "kernelspec": {
   "display_name": "Python 3 (ipykernel)",
   "language": "python",
   "name": "python3"
  },
  "language_info": {
   "codemirror_mode": {
    "name": "ipython",
    "version": 3
   },
   "file_extension": ".py",
   "mimetype": "text/x-python",
   "name": "python",
   "nbconvert_exporter": "python",
   "pygments_lexer": "ipython3",
   "version": "3.8.2"
  }
 },
 "nbformat": 4,
 "nbformat_minor": 5
}
